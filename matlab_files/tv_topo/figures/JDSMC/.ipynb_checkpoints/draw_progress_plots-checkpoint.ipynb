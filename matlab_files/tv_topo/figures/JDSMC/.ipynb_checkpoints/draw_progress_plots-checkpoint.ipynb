{
 "cells": [
  {
   "cell_type": "code",
   "execution_count": 45,
   "metadata": {
    "collapsed": false
   },
   "outputs": [
    {
     "ename": "ValueError",
     "evalue": "could not broadcast input array from shape (2,51) into shape (2,26)",
     "output_type": "error",
     "traceback": [
      "\u001b[0;31m---------------------------------------------------------------------------\u001b[0m",
      "\u001b[0;31mValueError\u001b[0m                                Traceback (most recent call last)",
      "\u001b[0;32m<ipython-input-45-b7d3665d089e>\u001b[0m in \u001b[0;36m<module>\u001b[0;34m()\u001b[0m\n\u001b[1;32m     26\u001b[0m     \u001b[0mtmp\u001b[0m \u001b[0;34m=\u001b[0m \u001b[0msio\u001b[0m\u001b[0;34m.\u001b[0m\u001b[0mloadmat\u001b[0m\u001b[0;34m(\u001b[0m\u001b[0mfilename\u001b[0m\u001b[0;34m)\u001b[0m\u001b[0;34m\u001b[0m\u001b[0m\n\u001b[1;32m     27\u001b[0m     \u001b[0mtmp_rbt_traj\u001b[0m \u001b[0;34m=\u001b[0m \u001b[0mtmp\u001b[0m\u001b[0;34m[\u001b[0m\u001b[0;34m'tmp_rbt_traj'\u001b[0m\u001b[0;34m]\u001b[0m\u001b[0;34m\u001b[0m\u001b[0m\n\u001b[0;32m---> 28\u001b[0;31m     \u001b[0mrbt_traj\u001b[0m\u001b[0;34m[\u001b[0m\u001b[0mi\u001b[0m\u001b[0;34m,\u001b[0m\u001b[0;34m:\u001b[0m\u001b[0;34m,\u001b[0m\u001b[0;34m:\u001b[0m\u001b[0;34m]\u001b[0m \u001b[0;34m=\u001b[0m \u001b[0mtmp_rbt_traj\u001b[0m\u001b[0;31m#[:,0:11]\u001b[0m\u001b[0;34m\u001b[0m\u001b[0m\n\u001b[0m\u001b[1;32m     29\u001b[0m \u001b[0;34m\u001b[0m\u001b[0m\n\u001b[1;32m     30\u001b[0m \u001b[0;31m# load targets' trajectory\u001b[0m\u001b[0;34m\u001b[0m\u001b[0;34m\u001b[0m\u001b[0m\n",
      "\u001b[0;31mValueError\u001b[0m: could not broadcast input array from shape (2,51) into shape (2,26)"
     ]
    }
   ],
   "source": [
    "# draw figures for showing the search progress\n",
    "# run all cells to generate figures\n",
    "\n",
    "## ### load data \n",
    "import numpy as np\n",
    "import matplotlib.pyplot as plt\n",
    "from colormaputil import array_cmap\n",
    "import scipy.io as sio\n",
    "from matplotlib.backends.backend_pdf import PdfPages\n",
    "# import matplotlib.cbook as cbook\n",
    "import matplotlib.image as mpimg\n",
    "\n",
    "# set up parameters\n",
    "rbt_num = 6 # number of robots: simulation: 6; experiment: 3\n",
    "rbt_traj_len = 51; # totoal length of robot trajectory\n",
    "\n",
    "# load heterogeneous moving sensor data\n",
    "\n",
    "rbt_idx = 1;\n",
    "step = 5; # step 5 20 30 40\n",
    "\n",
    "# load robot trajectory\n",
    "rbt_traj = np.zeros((rbt_num,2,rbt_traj_len))\n",
    "for i in range(rbt_num):\n",
    "    filename = './process_plot/linear/hetero_mov_sen_mov_tar_rbt%d_traj_01-Feb-2017' %(i+1)\n",
    "    tmp = sio.loadmat(filename)\n",
    "    tmp_rbt_traj = tmp['tmp_rbt_traj']\n",
    "    rbt_traj[i,:,:] = tmp_rbt_traj#[:,0:11]\n",
    "    \n",
    "# load targets' trajectory\n",
    "# linear target\n",
    "tmp = sio.loadmat('./process_plot/linear/hetero_mov_sen_mov_tar_tar_traj_01-Feb-2017')\n",
    "tmp_tar_traj = tmp['tmp_tar_traj']\n",
    "tar_traj_lin = tmp_tar_traj#[:,0:11]\n",
    "\n",
    "# sin target\n",
    "tmp = sio.loadmat('./process_plot/sin/hetero_mov_sen_mov_tar_tar_traj_01-Feb-2017')\n",
    "tmp_tar_traj = tmp['tmp_tar_traj']\n",
    "tar_traj_sin = tmp_tar_traj#[:,0:11]\n",
    "\n",
    "# circular target\n",
    "tmp = sio.loadmat('./process_plot/circle/hetero_mov_sen_mov_tar_tar_traj_01-Feb-2017')\n",
    "tmp_tar_traj = tmp['tmp_tar_traj']\n",
    "tar_traj_cir = tmp_tar_traj#[:,0:11]\n",
    "\n",
    "# load prob map for different target types\n",
    "filename = './process_plot/sin/hetero_mov_sen_mov_tar_map_rbt%d_step%d' %(rbt_idx,step)\n",
    "tmp = sio.loadmat(filename+'_01-Feb-2017')\n",
    "prob_map_sin = tmp['tmp_map']\n",
    "\n",
    "filename = './process_plot/linear/hetero_mov_sen_mov_tar_map_rbt%d_step%d' %(rbt_idx,step)\n",
    "tmp = sio.loadmat(filename+'_01-Feb-2017')\n",
    "prob_map_lin = tmp['tmp_map']\n",
    "\n",
    "filename = './process_plot/circle/hetero_mov_sen_mov_tar_map_rbt%d_step%d' %(rbt_idx,step)\n",
    "tmp = sio.loadmat(filename+'_01-Feb-2017')\n",
    "prob_map_cir = tmp['tmp_map']\n",
    "\n",
    "# use the sum of pdf for illustratoin purpose\n",
    "prob_map = prob_map_cir +prob_map_lin+prob_map_sin\n",
    "\n",
    "filename = './process_plot/hetero_mov_sen_mov_tar_rbt%d_step%d' %(rbt_idx,step)\n",
    "pp = PdfPages('%s.pdf' %filename)\n",
    "\n",
    "# temporary fix for the negative value is prob_map\n",
    "prob_map[prob_map<0] = 0\n",
    "\n",
    "vmax = np.amax(prob_map)\n",
    "vmin = 0;"
   ]
  },
  {
   "cell_type": "code",
   "execution_count": 42,
   "metadata": {
    "collapsed": false
   },
   "outputs": [],
   "source": [
    "mycmap = sio.loadmat('../../MyColorMap.mat')\n",
    "mycmap = mycmap['mymap']\n",
    "mycmap = array_cmap(mycmap)"
   ]
  },
  {
   "cell_type": "code",
   "execution_count": 43,
   "metadata": {
    "collapsed": false
   },
   "outputs": [
    {
     "name": "stdout",
     "output_type": "stream",
     "text": [
      "(100, 100)\n"
     ]
    }
   ],
   "source": [
    "## ### draw plot\n",
    "levels = np.linspace(vmin,vmax,30)\n",
    "CS = plt.contourf(prob_map.transpose(),cmap=mycmap,levels = levels)\n",
    "plt.colorbar(CS,format='%.1e')\n",
    "print(prob_map.shape)\n",
    "\n",
    "# for moving sensor moving target\n",
    "\n",
    "for j in range(rbt_num):\n",
    "    # draw robot trajectory\n",
    "    if j == rbt_idx-1:\n",
    "        plt.plot(rbt_traj[j,0,0:step+1], rbt_traj[j,1,0:step+1],'r-.',linewidth=3);\n",
    "        plt.plot(rbt_traj[j,0,step], rbt_traj[j,1,step],'r*',markersize=30);\n",
    "    else:\n",
    "        plt.plot(rbt_traj[j,0,0:step+1], rbt_traj[j,1,0:step+1],'g-.',linewidth=3);\n",
    "        plt.plot(rbt_traj[j,0,step], rbt_traj[j,1,step],'g*',markersize=25);\n",
    "          \n",
    "    plt.text(rbt_traj[j,0,step]+3, rbt_traj[j,1,step]-3, '%d'%(j+1),fontsize=15);\n",
    "\n",
    "    # draw target trajectory    \n",
    "    # linear target\n",
    "    plt.plot(tar_traj_lin[0,0:step+1], tar_traj_lin[1,0:step+1], 'k--',linewidth=3);    \n",
    "    plt.plot(tar_traj_lin[0,step], tar_traj_lin[1,step], 'k+',markersize=30,mew=3);      \n",
    "\n",
    "    # sin target\n",
    "    plt.plot(tar_traj_sin[0,0:step+1], tar_traj_sin[1,0:step+1], 'k--',linewidth=3);    \n",
    "    plt.plot(tar_traj_sin[0,step], tar_traj_sin[1,step], 'k+',markersize=30,mew=3);      \n",
    "    \n",
    "    # circle target\n",
    "    plt.plot(tar_traj_cir[0,0:step+1], tar_traj_cir[1,0:step+1], 'k--',linewidth=3);    \n",
    "    plt.plot(tar_traj_cir[0,step], tar_traj_cir[1,step], 'k+',markersize=30,mew=3);      \n",
    "\n",
    "# remove xtick and ytick\n",
    "plt.tick_params(\n",
    "    axis='both',       # changes apply to the both axis\n",
    "    which='both',      # both major and minor ticks are affected\n",
    "    bottom='off',      # ticks along the bottom edge are off\n",
    "    top='off',         # ticks along the top edge are off\n",
    "    labelbottom='off', # labels along the bottom edge are off  \n",
    "    right='off',\n",
    "    left='off',\n",
    "    labelleft='off'\n",
    ") \n",
    "\n",
    "# plt.title('UGV %d' %1)\n",
    "# plt.show()\n",
    "pp.savefig(bbox_inches='tight')\n",
    "pp.close()\n",
    "plt.clf()"
   ]
  },
  {
   "cell_type": "code",
   "execution_count": 44,
   "metadata": {
    "collapsed": false
   },
   "outputs": [
    {
     "name": "stdout",
     "output_type": "stream",
     "text": [
      "[[1 4]\n",
      " [2 5]\n",
      " [3 6]]\n"
     ]
    }
   ],
   "source": [
    "a = np.array([[1,2,3],[4,5,6]])\n",
    "print(a.transpose())"
   ]
  },
  {
   "cell_type": "code",
   "execution_count": null,
   "metadata": {
    "collapsed": true
   },
   "outputs": [],
   "source": []
  }
 ],
 "metadata": {
  "kernelspec": {
   "display_name": "Python 2",
   "language": "python",
   "name": "python2"
  },
  "language_info": {
   "codemirror_mode": {
    "name": "ipython",
    "version": 2
   },
   "file_extension": ".py",
   "mimetype": "text/x-python",
   "name": "python",
   "nbconvert_exporter": "python",
   "pygments_lexer": "ipython2",
   "version": "2.7.11"
  }
 },
 "nbformat": 4,
 "nbformat_minor": 0
}
