{
 "cells": [
  {
   "cell_type": "code",
   "execution_count": 31,
   "metadata": {
    "collapsed": false
   },
   "outputs": [
    {
     "name": "stdout",
     "output_type": "stream",
     "text": [
      "0.000405757731423\n",
      "4.57175068594e-36\n"
     ]
    }
   ],
   "source": [
    "# load data\n",
    "import numpy as np\n",
    "import matplotlib.pyplot as plt\n",
    "from colormaputil import array_cmap\n",
    "import scipy.io as sio\n",
    "from matplotlib.backends.backend_pdf import PdfPages\n",
    "\n",
    "# load robot trajectory\n",
    "rbt_traj = np.zeros((6,2,11))\n",
    "for i in range(6):\n",
    "    filename = './process_plot/brg_mov_sen_mov_tar_rbt%d_traj_12-Oct-2016' %(i+1)\n",
    "    tmp = sio.loadmat(filename)\n",
    "    rbt_traj[i,:,:] = tmp['tmp_rbt_traj']    \n",
    "\n",
    "# load target trajectory\n",
    "tmp = sio.loadmat('./process_plot/brg_mov_sen_mov_tar_tar_traj_12-Oct-2016')\n",
    "tar_traj = tmp['tmp_tar_traj']\n",
    "\n",
    "# load prob map\n",
    "# change file name to load different map\n",
    "step = 1;\n",
    "filename = './process_plot/brg_mov_sen_mov_tar_map_rbt1_step%d' %step\n",
    "tmp = sio.loadmat(filename+'_12-Oct-2016')\n",
    "pp = PdfPages('%s.pdf' %filename)\n",
    "prob_map = tmp['tmp_map']\n",
    "\n",
    "# temporary fix for the negative value is prob_map\n",
    "prob_map[prob_map<0] = 0\n",
    "\n",
    "vmax = np.amax(prob_map)\n",
    "vmin = np.amin(prob_map)\n",
    "print(vmax)\n",
    "print(vmin)"
   ]
  },
  {
   "cell_type": "code",
   "execution_count": 32,
   "metadata": {
    "collapsed": false
   },
   "outputs": [],
   "source": [
    "mycmap = sio.loadmat('../../../MyColorMap.mat')\n",
    "mycmap = mycmap['mymap']\n",
    "mycmap = array_cmap(mycmap)\n"
   ]
  },
  {
   "cell_type": "code",
   "execution_count": 34,
   "metadata": {
    "collapsed": false
   },
   "outputs": [],
   "source": [
    "\n",
    "levels = np.linspace(vmin,vmax,30)\n",
    "CS = plt.contourf(prob_map.transpose(),cmap=mycmap,levels = levels)\n",
    "# levels = range(10)\n",
    "# plt.contourf(CS, levels)\n",
    "# CS = plt.contourf(prob_map.transpose(),cmap='cool')\n",
    "plt.colorbar(CS)\n",
    "# cm.set_cmap(mycmap)\n",
    "for j in range(6):\n",
    "    # draw robot trajectory\n",
    "    if j==0:\n",
    "        plt.plot(rbt_traj[j,0,0:step], rbt_traj[j,1,0:step],'r-.',linewidth=2);\n",
    "        plt.plot(rbt_traj[j,0,step], rbt_traj[j,1,step],'r*',markersize=25);\n",
    "    else:\n",
    "        plt.plot(rbt_traj[j,0,0:step], rbt_traj[j,1,0:step],'g-.',linewidth=2);\n",
    "        plt.plot(rbt_traj[j,0,step], rbt_traj[j,1,step],'g*',markersize=15);\n",
    "    \n",
    "    plt.text(rbt_traj[j,0,step]+3, rbt_traj[j,1,step]-2, '%d'%(j+1),fontsize=12);\n",
    "\n",
    "    # draw target trajectory\n",
    "#     line_hdl = line(fld.target.traj(1,:), fld.target.traj(2,:));\n",
    "#     set(line_hdl,'Marker','.','Color','k','MarkerSize',3,'LineWidth',2);\n",
    "    plt.plot(tar_traj[0,0:step], tar_traj[1,0:step], 'k--',linewidth=2);\n",
    "    plt.plot(tar_traj[0,step], tar_traj[1,step], 'k+',markersize=15,mew=3);      \n",
    "\n",
    "# remove xtick and ytick\n",
    "plt.tick_params(\n",
    "    axis='both',       # changes apply to the both axis\n",
    "    which='both',      # both major and minor ticks are affected\n",
    "    bottom='off',      # ticks along the bottom edge are off\n",
    "    top='off',         # ticks along the top edge are off\n",
    "    labelbottom='off', # labels along the bottom edge are off  \n",
    "    right='off',\n",
    "    left='off',\n",
    "    labelleft='off'\n",
    ") \n",
    "\n",
    "plt.title('UGV %d' %1)\n",
    "# plt.show()\n",
    "pp.savefig()\n",
    "pp.close()"
   ]
  },
  {
   "cell_type": "code",
   "execution_count": null,
   "metadata": {
    "collapsed": true
   },
   "outputs": [],
   "source": []
  }
 ],
 "metadata": {
  "kernelspec": {
   "display_name": "Python 2",
   "language": "python",
   "name": "python2"
  },
  "language_info": {
   "codemirror_mode": {
    "name": "ipython",
    "version": 2
   },
   "file_extension": ".py",
   "mimetype": "text/x-python",
   "name": "python",
   "nbconvert_exporter": "python",
   "pygments_lexer": "ipython2",
   "version": "2.7.11"
  }
 },
 "nbformat": 4,
 "nbformat_minor": 0
}
